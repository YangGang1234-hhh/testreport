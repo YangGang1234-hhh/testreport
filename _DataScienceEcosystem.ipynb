{
 "cells": [
  {
   "cell_type": "markdown",
   "id": "f35bdf83",
   "metadata": {},
   "source": [
    "# This is my first title\n",
    "good job\n"
   ]
  },
  {
   "cell_type": "markdown",
   "id": "cf9833d3",
   "metadata": {},
   "source": [
    "## so,what should I do now?maybe some words are ok.Yep,I guess so."
   ]
  },
  {
   "cell_type": "markdown",
   "id": "28a46ec5",
   "metadata": {},
   "source": [
    "# There are some scripts following\n",
    "# python, C++, java,R,JS..."
   ]
  },
  {
   "cell_type": "markdown",
   "id": "88fedb30",
   "metadata": {},
   "source": [
    "# There are some database\n",
    "# hive,mysql,oracle,nosql,db2,sqlservel"
   ]
  },
  {
   "cell_type": "markdown",
   "id": "9dd1d764",
   "metadata": {},
   "source": [
    "# some dstools\n",
    "# github\n",
    "# jupyter\n",
    "# Rstadio"
   ]
  },
  {
   "cell_type": "markdown",
   "id": "8fd9e821",
   "metadata": {},
   "source": [
    "### Below are a few examples of evaluating arithmetic expressions in Python"
   ]
  },
  {
   "cell_type": "code",
   "execution_count": 2,
   "id": "a21403b0",
   "metadata": {},
   "outputs": [
    {
     "name": "stdout",
     "output_type": "stream",
     "text": [
      "7\n",
      "12\n"
     ]
    }
   ],
   "source": [
    "x=3\n",
    "y=4\n",
    "print(x+y)\n",
    "print(x*y)"
   ]
  },
  {
   "cell_type": "code",
   "execution_count": 3,
   "id": "64667c6d",
   "metadata": {},
   "outputs": [
    {
     "name": "stdout",
     "output_type": "stream",
     "text": [
      "3.3333333333333335\n"
     ]
    }
   ],
   "source": [
    "# this code can transfer minutes to hours\n",
    "minutes = 200\n",
    "hours = minutes/60\n",
    "print(hours)"
   ]
  },
  {
   "cell_type": "markdown",
   "id": "3ed6c80b",
   "metadata": {},
   "source": [
    "## YANGGAGN\n",
    "## 20240625"
   ]
  }
 ],
 "metadata": {
  "kernelspec": {
   "display_name": "Python 3",
   "language": "python",
   "name": "python3"
  },
  "language_info": {
   "codemirror_mode": {
    "name": "ipython",
    "version": 3
   },
   "file_extension": ".py",
   "mimetype": "text/x-python",
   "name": "python",
   "nbconvert_exporter": "python",
   "pygments_lexer": "ipython3",
   "version": "3.8.8"
  }
 },
 "nbformat": 4,
 "nbformat_minor": 5
}
